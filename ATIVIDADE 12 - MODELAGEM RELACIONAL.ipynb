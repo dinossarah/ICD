{
 "cells": [
  {
   "cell_type": "code",
   "execution_count": null,
   "metadata": {},
   "outputs": [],
   "source": [
    "CREATE TABLE TABLE1(\n",
    "ORDER_NUMBER NUMERIC (2,0),\n",
    "DAT DATE,\n",
    "DUE NUMERIC (5,0),\n",
    "TRACKING NUMBERIC(5,0),\n",
    "CUSTOMER NUMERIC(5,0),\n",
    "CONSTRAINT ORDER_NUMBER_PK\n",
    "PRIMARY KEY (ORDER_NUMBER)"
   ]
  },
  {
   "cell_type": "code",
   "execution_count": null,
   "metadata": {},
   "outputs": [],
   "source": [
    "INSERT INTO table1\n",
    "    (ORDER_NUMBER, DAT, DUE, TRACKING,CUSTOMER)\n",
    "VALUES\n",
    "    ('10','2010-05-13','15000','123','111'),\n",
    "    ('09','2011-05-13','12540','143','222'),\n",
    "    ('08','2012-06-23','15234','234','333'),\n",
    "    ('07','2012-06-24','15035','654','444'),\n",
    "    ('06','2010-04-11','49543','778','555'),\n",
    "    ('05','2010-05-06','12234','987','666'),\n",
    "    ('04','2010-02-10','15555','230','777'),\n",
    "    ('02','2011-05-10','15567','234','888'),\n",
    "    ('01','2012-05-12','12355','656','999');"
   ]
  },
  {
   "cell_type": "code",
   "execution_count": null,
   "metadata": {},
   "outputs": [],
   "source": [
    "SELECT * FROM COUNTRIES;\n",
    "SELECT COUNTRY_NAME FROM COUNTRIES where REGION_ID = 2;\n",
    "SELECT REGION_NAME FROM REGIONS INNER JOIN countries ON (REGIONS.REGION_ID = COUNTRIES.REGION_ID) WHERE );\n",
    "    #REGIÃO QUE CONTEM O PAIS COM O ID BR\n",
    "SELECT REGION_NAME FROM REGIONS INNER JOIN countries ON (REGIONS.REGION_ID = COUNTRIES.REGION_ID) WHERE COUNTRY_ID = 'BR';\n"
   ]
  },
  {
   "cell_type": "code",
   "execution_count": null,
   "metadata": {},
   "outputs": [],
   "source": []
  }
 ],
 "metadata": {
  "kernelspec": {
   "display_name": "Python 3",
   "language": "python",
   "name": "python3"
  },
  "language_info": {
   "codemirror_mode": {
    "name": "ipython",
    "version": 3
   },
   "file_extension": ".py",
   "mimetype": "text/x-python",
   "name": "python",
   "nbconvert_exporter": "python",
   "pygments_lexer": "ipython3",
   "version": "3.7.3"
  }
 },
 "nbformat": 4,
 "nbformat_minor": 2
}
