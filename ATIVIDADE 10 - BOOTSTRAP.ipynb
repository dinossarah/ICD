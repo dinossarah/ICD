{
 "cells": [
  {
   "cell_type": "code",
   "execution_count": 2,
   "metadata": {},
   "outputs": [
    {
     "data": {
      "text/plain": [
       "array([102, 435, 860, ..., 476, 593, 222])"
      ]
     },
     "execution_count": 2,
     "metadata": {},
     "output_type": "execute_result"
    }
   ],
   "source": [
    "import numpy as np\n",
    "import matplotlib.pyplot as plt\n",
    "\n",
    "np.random.seed(42)\n",
    "pickups = np.random.randint(0,1000 , size=2000)\n",
    "pickups"
   ]
  },
  {
   "cell_type": "code",
   "execution_count": 7,
   "metadata": {},
   "outputs": [
    {
     "name": "stdout",
     "output_type": "stream",
     "text": [
      "media 498.9185\n",
      "desvio padrao 294.2275511534397\n",
      "media amostral 428.4\n",
      "desvio amostral 257.0242977914197\n",
      "393.5325 605.0674999999998\n"
     ]
    },
    {
     "data": {
      "text/plain": [
       "(53.71835560208136, 53.92083409912643)"
      ]
     },
     "execution_count": 7,
     "metadata": {},
     "output_type": "execute_result"
    },
    {
     "data": {
      "image/png": "[encoded data removed]",
      "text/plain": [
       "<Figure size 432x288 with 1 Axes>"
      ]
     },
     "metadata": {
      "needs_background": "light"
     },
     "output_type": "display_data"
    }
   ],
   "source": [
    "# population mean\n",
    "print('media',pickups.mean())\n",
    "\n",
    "# population standard deviation\n",
    "print('desvio padrao',pickups.std())\n",
    "\n",
    "# draw a sample from population\n",
    "sample = np.random.choice(pickups, size=30)\n",
    "sample\n",
    "\n",
    "#first sample mean\n",
    "sample_mean = sample.mean()\n",
    "print('media amostral', sample_mean)\n",
    "\n",
    "sample_std = np.std(sample, ddof=1)\n",
    "print('desvio amostral',sample_std)\n",
    "\n",
    "# estimated standard error for sapmle mann\n",
    "sample_std/(30 ** 0.5)\n",
    "\n",
    "# theorical standard error for sapmle mann\n",
    "pickups.std()/(30 ** 0.5)\n",
    "\n",
    "# construct the simulated sampling distribution\n",
    "sample_props = []\n",
    "for _ in range(100000):\n",
    "    sample = np.random.choice(pickups, size=30, replace = True)\n",
    "    sample_props.append(sample.mean())\n",
    "\n",
    "# the simulated mean of the sampling distribution\n",
    "simulated_mean = np.mean(sample_props)\n",
    "\n",
    "# the simulated standard deviation of the sampling distribution\n",
    "simulated_std = np.std(sample_props)\n",
    "liminf = np.percentile(sample_props,2.5)\n",
    "limsup = np.percentile(sample_props,97.5)\n",
    "print(liminf,limsup)\n",
    "# plot the simulated sampling distribution,\n",
    "# under the Central Limit Theorem,\n",
    "# it is expected normal\n",
    "plt.hist(sample_props)\n",
    "\n",
    "# the theorical mean and simulated mean\n",
    "(pickups.mean(), simulated_mean)\n",
    "\n",
    "\n",
    "# the theorical standard error and simulated standard error\n",
    "(pickups.std()/(30 ** 0.5), simulated_std)\n"
   ]
  },
  {
   "cell_type": "code",
   "execution_count": 5,
   "metadata": {},
   "outputs": [
    {
     "data": {
      "image/png": "[encoded data removed]",
      "text/plain": [
       "<Figure size 432x288 with 1 Axes>"
      ]
     },
     "metadata": {
      "needs_background": "light"
     },
     "output_type": "display_data"
    }
   ],
   "source": [
    "import numpy as np\n",
    "import pandas as pd\n",
    "import matplotlib.pyplot as plt\n",
    "\n",
    "df = pd.DataFrame()\n",
    "df['category'] = np.random.choice(np.arange(10), 1000, replace=True)\n",
    "df['number'] = np.random.normal(df['category'], 1)\n",
    "\n",
    "mean = df.groupby('category')['number'].mean()\n",
    "std = df.groupby('category')['number'].std()\n",
    "\n",
    "plt.errorbar(mean.index, mean, xerr=0.5, yerr=2*std, linestyle='')\n",
    "plt.show()"
   ]
  },
  {
   "cell_type": "code",
   "execution_count": null,
   "metadata": {},
   "outputs": [],
   "source": []
  }
 ],
 "metadata": {
  "kernelspec": {
   "display_name": "Python 3",
   "language": "python",
   "name": "python3"
  },
  "language_info": {
   "codemirror_mode": {
    "name": "ipython",
    "version": 3
   },
   "file_extension": ".py",
   "mimetype": "text/x-python",
   "name": "python",
   "nbconvert_exporter": "python",
   "pygments_lexer": "ipython3",
   "version": "3.7.3"
  }
 },
 "nbformat": 4,
 "nbformat_minor": 2
}
