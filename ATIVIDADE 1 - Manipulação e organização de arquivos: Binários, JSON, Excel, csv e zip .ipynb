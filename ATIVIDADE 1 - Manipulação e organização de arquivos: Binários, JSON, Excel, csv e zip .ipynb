{
 "cells": [
  {
   "cell_type": "code",
   "execution_count": null,
   "metadata": {},
   "outputs": [],
   "source": [
    "import pandas as pd\n",
    "import numpy as np\n",
    "import matplotlib.pyplot as plt\n",
    "\n",
    "df = pd.read_csv('vazoes.txt', sep= ';', header=9,index_col = 2, dayfirst = True, parse_dates = True)\n",
    "print(df)\n",
    "\n",
    "df['Vazao01'] = pd.to_numeric(df['Vazao01'], errors='coerce')\n",
    "df['Vazao02'] = pd.to_numeric(df['Vazao02'], errors='coerce')\n",
    "df['Vazao03'] = pd.to_numeric(df['Vazao03'], errors='coerce')\n",
    "df['Vazao04'] = pd.to_numeric(df['Vazao04'], errors='coerce')\n",
    "df['Vazao05'] = pd.to_numeric(df['Vazao05'], errors='coerce')\n",
    "df['Vazao06'] = pd.to_numeric(df['Vazao06'], errors='coerce')\n",
    "df['Vazao07'] = pd.to_numeric(df['Vazao07'], errors='coerce')\n",
    "df['Vazao08'] = pd.to_numeric(df['Vazao08'], errors='coerce')\n",
    "df['Vazao09'] = pd.to_numeric(df['Vazao09'], errors='coerce')\n",
    "df['Vazao10'] = pd.to_numeric(df['Vazao10'], errors='coerce')\n",
    "df['Vazao11'] = pd.to_numeric(df['Vazao11'], errors='coerce')\n",
    "df['Vazao12'] = pd.to_numeric(df['Vazao12'], errors='coerce')\n",
    "df['Vazao13'] = pd.to_numeric(df['Vazao13'], errors='coerce')\n",
    "df['Vazao14'] = pd.to_numeric(df['Vazao14'], errors='coerce')\n",
    "df['Vazao15'] = pd.to_numeric(df['Vazao15'], errors='coerce')\n",
    "df['Vazao16'] = pd.to_numeric(df['Vazao16'], errors='coerce')\n",
    "df['Vazao17'] = pd.to_numeric(df['Vazao17'], errors='coerce')\n",
    "df['Vazao18'] = pd.to_numeric(df['Vazao18'], errors='coerce')\n",
    "df['Vazao19'] = pd.to_numeric(df['Vazao19'], errors='coerce')\n",
    "df['Vazao20'] = pd.to_numeric(df['Vazao20'], errors='coerce')\n",
    "df['Vazao21'] = pd.to_numeric(df['Vazao21'], errors='coerce')\n",
    "df['Vazao22'] = pd.to_numeric(df['Vazao22'], errors='coerce')\n",
    "df['Vazao23'] = pd.to_numeric(df['Vazao23'], errors='coerce')\n",
    "df['Vazao24'] = pd.to_numeric(df['Vazao24'], errors='coerce')\n",
    "df['Vazao25'] = pd.to_numeric(df['Vazao25'], errors='coerce')\n",
    "df['Vazao26'] = pd.to_numeric(df['Vazao26'], errors='coerce')\n",
    "df['Vazao27'] = pd.to_numeric(df['Vazao27'], errors='coerce')\n",
    "df['Vazao28'] = pd.to_numeric(df['Vazao28'], errors='coerce')\n",
    "df['Vazao29'] = pd.to_numeric(df['Vazao29'], errors='coerce')\n",
    "df['Vazao30'] = pd.to_numeric(df['Vazao30'], errors='coerce')\n",
    "df['Vazao31'] = pd.to_numeric(df['Vazao31'], errors='coerce')\n",
    "df['Vazao31'] = pd.to_numeric(df['Vazao31'], errors='coerce')\n",
    "\n",
    "\n",
    "\n",
    "#df = df.groupby([pd.Grouper(freq='M', key = 'Data')])['MediaDiaria'].mean()\n",
    "\n",
    "#df = df.groupby([pd.Grouper(freq='A')])['MediaDiaria'].mean()\n",
    "#print(df)\n",
    "#separar ´pr ano para reduzir serie, atraves do nivel de consistencia organizar por anos. adjclose... Disp de dados = gantt:"
   ]
  }
 ],
 "metadata": {
  "kernelspec": {
   "display_name": "Python 3",
   "language": "python",
   "name": "python3"
  },
  "language_info": {
   "codemirror_mode": {
    "name": "ipython",
    "version": 3
   },
   "file_extension": ".py",
   "mimetype": "text/x-python",
   "name": "python",
   "nbconvert_exporter": "python",
   "pygments_lexer": "ipython3",
   "version": "3.7.3"
  }
 },
 "nbformat": 4,
 "nbformat_minor": 2
}
