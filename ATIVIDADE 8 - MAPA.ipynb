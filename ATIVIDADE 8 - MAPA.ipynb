{
 "cells": [
  {
   "cell_type": "code",
   "execution_count": 3,
   "metadata": {},
   "outputs": [
    {
     "data": {
      "text/html": [
       "<div>\n",
       "<style scoped>\n",
       "    .dataframe tbody tr th:only-of-type {\n",
       "        vertical-align: middle;\n",
       "    }\n",
       "\n",
       "    .dataframe tbody tr th {\n",
       "        vertical-align: top;\n",
       "    }\n",
       "\n",
       "    .dataframe thead th {\n",
       "        text-align: right;\n",
       "    }\n",
       "</style>\n",
       "<table border=\"1\" class=\"dataframe\">\n",
       "  <thead>\n",
       "    <tr style=\"text-align: right;\">\n",
       "      <th></th>\n",
       "      <th>FID</th>\n",
       "      <th>UF</th>\n",
       "      <th>COD_PONTO</th>\n",
       "      <th>TIPOLOGIA</th>\n",
       "      <th>MUNICIPIO</th>\n",
       "      <th>LAT</th>\n",
       "      <th>LONG</th>\n",
       "      <th>PTS_COINC</th>\n",
       "      <th>INST_COINC</th>\n",
       "      <th>STATUS</th>\n",
       "    </tr>\n",
       "  </thead>\n",
       "  <tbody>\n",
       "    <tr>\n",
       "      <th>0</th>\n",
       "      <td>1</td>\n",
       "      <td>AL</td>\n",
       "      <td>AL-7411-I-31</td>\n",
       "      <td>Impacto</td>\n",
       "      <td>Igreja Nova</td>\n",
       "      <td>-10.131823</td>\n",
       "      <td>-36.618082</td>\n",
       "      <td></td>\n",
       "      <td></td>\n",
       "      <td>ATIVAR</td>\n",
       "    </tr>\n",
       "    <tr>\n",
       "      <th>1</th>\n",
       "      <td>2</td>\n",
       "      <td>SE</td>\n",
       "      <td>SEAL-7411-IE-2</td>\n",
       "      <td>Impacto/Estratégico</td>\n",
       "      <td>São Brás</td>\n",
       "      <td>-10.113169</td>\n",
       "      <td>-36.922933</td>\n",
       "      <td>Captação São Brás</td>\n",
       "      <td>CASAL</td>\n",
       "      <td>ATIVAR</td>\n",
       "    </tr>\n",
       "    <tr>\n",
       "      <th>2</th>\n",
       "      <td>3</td>\n",
       "      <td>AL</td>\n",
       "      <td>AL-7399-I-12</td>\n",
       "      <td>Impacto</td>\n",
       "      <td>Coruripe</td>\n",
       "      <td>-10.112102</td>\n",
       "      <td>-36.272401</td>\n",
       "      <td></td>\n",
       "      <td></td>\n",
       "      <td>ATIVAR</td>\n",
       "    </tr>\n",
       "    <tr>\n",
       "      <th>3</th>\n",
       "      <td>4</td>\n",
       "      <td>SE</td>\n",
       "      <td>SEAL-7411-IE-10</td>\n",
       "      <td>Impacto/Estratégico</td>\n",
       "      <td>Traipu</td>\n",
       "      <td>-9.971389</td>\n",
       "      <td>-37.002778</td>\n",
       "      <td>49660000</td>\n",
       "      <td>ANA</td>\n",
       "      <td>ATIVAR</td>\n",
       "    </tr>\n",
       "    <tr>\n",
       "      <th>4</th>\n",
       "      <td>5</td>\n",
       "      <td>AL</td>\n",
       "      <td>AL-7399-I-14</td>\n",
       "      <td>Impacto</td>\n",
       "      <td>Jequiá da Praia</td>\n",
       "      <td>-9.880000</td>\n",
       "      <td>-36.150000</td>\n",
       "      <td>31888 (Usina Sinimbu)</td>\n",
       "      <td>SEMARH</td>\n",
       "      <td>ATIVAR</td>\n",
       "    </tr>\n",
       "  </tbody>\n",
       "</table>\n",
       "</div>"
      ],
      "text/plain": [
       "   FID  UF        COD_PONTO            TIPOLOGIA        MUNICIPIO        LAT  \\\n",
       "0    1  AL     AL-7411-I-31              Impacto      Igreja Nova -10.131823   \n",
       "1    2  SE   SEAL-7411-IE-2  Impacto/Estratégico         São Brás -10.113169   \n",
       "2    3  AL     AL-7399-I-12              Impacto         Coruripe -10.112102   \n",
       "3    4  SE  SEAL-7411-IE-10  Impacto/Estratégico           Traipu  -9.971389   \n",
       "4    5  AL     AL-7399-I-14              Impacto  Jequiá da Praia  -9.880000   \n",
       "\n",
       "        LONG              PTS_COINC INST_COINC  STATUS  \n",
       "0 -36.618082                                    ATIVAR  \n",
       "1 -36.922933      Captação São Brás      CASAL  ATIVAR  \n",
       "2 -36.272401                                    ATIVAR  \n",
       "3 -37.002778               49660000        ANA  ATIVAR  \n",
       "4 -36.150000  31888 (Usina Sinimbu)     SEMARH  ATIVAR  "
      ]
     },
     "execution_count": 3,
     "metadata": {},
     "output_type": "execute_result"
    }
   ],
   "source": [
    "import pandas as pd\n",
    "df = pd.read_excel(r\"C:\\Users\\Sarah\\Documents\\UFAL\\3 PERIODO\\ICD\\ATIVIDADES\\MAPA\\MAPA.xls\")\n",
    "df.head()"
   ]
  },
  {
   "cell_type": "code",
   "execution_count": 4,
   "metadata": {},
   "outputs": [
    {
     "name": "stderr",
     "output_type": "stream",
     "text": [
      "C:\\Users\\Sarah\\Anaconda3\\lib\\site-packages\\IPython\\core\\display.py:689: UserWarning:\n",
      "\n",
      "Consider using IPython.display.IFrame instead\n",
      "\n"
     ]
    },
    {
     "data": {
      "text/html": [
       "<iframe id=\"igraph\" scrolling=\"no\" style=\"border:none;\" seamless=\"seamless\" src=\"https://plot.ly/~folevi/32.embed\" height=\"525px\" width=\"100%\"></iframe>"
      ],
      "text/plain": [
       "<chart_studio.tools.PlotlyDisplay object>"
      ]
     },
     "execution_count": 4,
     "metadata": {},
     "output_type": "execute_result"
    }
   ],
   "source": [
    "import plotly.plotly as py\n",
    "import plotly.graph_objs as go\n",
    "import numpy as np\n",
    "\n",
    "mapbox_access_token = 'pk.eyJ1IjoiY2FyYWhtZWxvIiwiYSI6ImNqeW5uc29mYzB2dW4zaXFycDZvcXloMTkifQ.PI2r8MLclFqnmRQ8ie0MDQ'\n",
    "\n",
    "data = [\n",
    "    go.Scattermapbox(\n",
    "        lat=df['LAT'], \n",
    "        lon=df['LONG'],\n",
    "        mode='markers',\n",
    "        marker=dict(size=9),\n",
    "    )\n",
    "]\n",
    "\n",
    "layout = go.Layout(\n",
    "    title = '<b>MAPA</b>',\n",
    "        titlefont = {'family': 'Arial',\n",
    "                     'size': 24},\n",
    "    autosize=True,\n",
    "    hovermode='closest',\n",
    "    mapbox=dict(\n",
    "        accesstoken=mapbox_access_token,\n",
    "        bearing=0,\n",
    "        center=dict(\n",
    "            lat=-10.116700,\n",
    "            lon=-36.650002\n",
    "        ),\n",
    "        pitch=0,\n",
    "        zoom=8\n",
    "    ),\n",
    ")\n",
    "\n",
    "fig = dict(data=data, layout=layout)\n",
    "py.iplot(fig, filename='Mapa')"
   ]
  },
  {
   "cell_type": "code",
   "execution_count": null,
   "metadata": {},
   "outputs": [],
   "source": []
  }
 ],
 "metadata": {
  "kernelspec": {
   "display_name": "Python 3",
   "language": "python",
   "name": "python3"
  },
  "language_info": {
   "codemirror_mode": {
    "name": "ipython",
    "version": 3
   },
   "file_extension": ".py",
   "mimetype": "text/x-python",
   "name": "python",
   "nbconvert_exporter": "python",
   "pygments_lexer": "ipython3",
   "version": "3.7.3"
  }
 },
 "nbformat": 4,
 "nbformat_minor": 2
}
